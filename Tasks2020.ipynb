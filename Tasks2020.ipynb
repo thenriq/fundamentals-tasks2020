{
 "cells": [
  {
   "cell_type": "markdown",
   "metadata": {},
   "source": [
    "### Task 1:"
   ]
  },
  {
   "cell_type": "markdown",
   "metadata": {},
   "source": [
    "Write a Python function called counts that takes a list as\n",
    "input and returns a dictionary of unique items in the list as keys and the number of\n",
    "times each item appears as values. So, the input `['A', 'A', 'B', 'C', 'A']`\n",
    "should have output `{'A': 3, 'B': 1, 'C': 1}` . Your code should not depend\n",
    "on any module from the standard library1 or otherwise. You should research\n",
    "the task first and include a description with references of your algorithm in the\n",
    "notebook.\n",
    "\n",
    "Sources: [PYnative](https://pynative.com/python-accept-list-input-from-user/), [dev.to](https://dev.to/kedark/ways-to-count-occurrences-of-the-list-items-in-python-472g)"
   ]
  },
  {
   "cell_type": "code",
   "execution_count": 1,
   "metadata": {},
   "outputs": [
    {
     "name": "stdout",
     "output_type": "stream",
     "text": [
      "Type a list of elements separated by space. Press enter when donea a A b b B B 1 1 2 25 25 34 33 33 34 thiago thiago $% $% %$ %$ ^& ^&\n"
     ]
    },
    {
     "data": {
      "text/plain": [
       "{'a': 2,\n",
       " 'A': 1,\n",
       " 'b': 2,\n",
       " 'B': 2,\n",
       " '1': 2,\n",
       " '2': 1,\n",
       " '25': 2,\n",
       " '34': 2,\n",
       " '33': 2,\n",
       " 'thiago': 2,\n",
       " '$%': 2,\n",
       " '%$': 2,\n",
       " '^&': 2}"
      ]
     },
     "execution_count": 1,
     "metadata": {},
     "output_type": "execute_result"
    }
   ],
   "source": [
    "# All elements inserted must be converted to a string\n",
    "# Python will differ a number entered as an integer from a number entered as an string (example: [10,'10'])\n",
    "# output from example above will be {10: 1, '10': 1}\n",
    "\n",
    "def countElement(mylist):\n",
    "    newlist = {} # Creating a list named newlist that will sum up each element\n",
    "    for character in mylist: # Gets the character in the \"character\" position from list \"newlist\"\n",
    "        if character in newlist: # If character at \"character\"position has already been acknowledge, its sum will be incremented\n",
    "            newlist[character] +=1 # Incrementing sum of character in \"character\" position\n",
    "        else:\n",
    "            newlist[character] =1 # If charecter at \"character\" positon has not been acknowledge, it will be put in the newlist list\n",
    "    return newlist # Returns the output content in newlist\n",
    "\n",
    "\n",
    "input_string = input(\"Type a list of elements separated by space. Press enter when done\")\n",
    "\n",
    "userList = input_string.split()\n",
    "\n",
    "countElement(userList)"
   ]
  },
  {
   "cell_type": "markdown",
   "metadata": {},
   "source": [
    "---"
   ]
  },
  {
   "cell_type": "markdown",
   "metadata": {},
   "source": [
    "### Task 2:"
   ]
  },
  {
   "cell_type": "markdown",
   "metadata": {},
   "source": [
    "Write a Python function called `dicerolls` that simulates\n",
    "rolling dice. Your function should take two parameters: the number of dice k and\n",
    "the number of times to roll the dice n. The function should simulate randomly\n",
    "rolling k dice n times, keeping track of each total face value. It should then return\n",
    "a dictionary with the number of times each possible total face value occurred. So,\n",
    "calling the function as `diceroll(k=2, n=1000)` should return a dictionary like:\n",
    "`{2:19,3:50,4:82,5:112,6:135,7:174,8:133,9:114,10:75,11:70,12:36}`\n",
    "You can use any module from the Python standard library you wish and you should\n",
    "include a description with references of your algorithm in the notebook.\n",
    "\n",
    "Source: [Nuomiphp](https://www.nuomiphp.com/eplan/en/261949.html)\n"
   ]
  },
  {
   "cell_type": "code",
   "execution_count": 2,
   "metadata": {},
   "outputs": [
    {
     "name": "stdout",
     "output_type": "stream",
     "text": [
      "How many dices will you play?2\n",
      "How many times will you roll?1000\n",
      "{2: 24, 3: 59, 4: 93, 5: 103, 6: 132, 7: 165, 8: 122, 9: 129, 10: 85, 11: 55, 12: 33}\n"
     ]
    },
    {
     "name": "stderr",
     "output_type": "stream",
     "text": [
      "<ipython-input-2-f84bb723b6a0>:7: DeprecationWarning: This function is deprecated. Please call randint(1, 6 + 1) instead\n",
      "  return np.random.random_integers(6)\n"
     ]
    }
   ],
   "source": [
    "import numpy as np\n",
    "\n",
    "\n",
    "# Returnig a random number between 1 and 6\n",
    "\n",
    "def random_num():\n",
    "    return np.random.random_integers(6)\n",
    "\n",
    "# Calculate the sum of n dices\n",
    "def diceroll(k, n):\n",
    "    return [sum(random_num() for _ in range(k)) for _ in range(n)]\n",
    "\n",
    "\n",
    "numbDices = int(input(\"How many dices will you play?\"))\n",
    "rolls = int(input(\"How many times will you roll?\"))\n",
    "results = diceroll(numbDices,rolls)\n",
    "results.sort()\n",
    "\n",
    "print(countElement(results))"
   ]
  }
 ],
 "metadata": {
  "kernelspec": {
   "display_name": "Python 3",
   "language": "python",
   "name": "python3"
  },
  "language_info": {
   "codemirror_mode": {
    "name": "ipython",
    "version": 3
   },
   "file_extension": ".py",
   "mimetype": "text/x-python",
   "name": "python",
   "nbconvert_exporter": "python",
   "pygments_lexer": "ipython3",
   "version": "3.8.3"
  }
 },
 "nbformat": 4,
 "nbformat_minor": 4
}
