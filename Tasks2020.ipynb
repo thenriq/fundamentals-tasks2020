{
 "cells": [
  {
   "cell_type": "markdown",
   "metadata": {},
   "source": [
    "### Task 1:"
   ]
  },
  {
   "cell_type": "markdown",
   "metadata": {},
   "source": [
    "Write a Python function called counts that takes a list as\n",
    "input and returns a dictionary of unique items in the list as keys and the number of\n",
    "times each item appears as values. So, the input `['A', 'A', 'B', 'C', 'A']`\n",
    "should have output `{'A': 3, 'B': 1, 'C': 1}` . Your code should not depend\n",
    "on any module from the standard library1 or otherwise. You should research\n",
    "the task first and include a description with references of your algorithm in the\n",
    "notebook.\n",
    "\n",
    "Sources: [PYnative](https://pynative.com/python-accept-list-input-from-user/), [dev.to](https://dev.to/kedark/ways-to-count-occurrences-of-the-list-items-in-python-472g)"
   ]
  },
  {
   "cell_type": "code",
   "execution_count": 2,
   "metadata": {},
   "outputs": [
    {
     "name": "stdout",
     "output_type": "stream",
     "text": [
      "Type a list of elements separated by space. Press enter when donea a A A 1 1 2 2 2  3 3  4 5 5 6a 6a  6a\n"
     ]
    },
    {
     "data": {
      "text/plain": [
       "{'a': 2, 'A': 2, '1': 2, '2': 3, '3': 2, '4': 1, '5': 2, '6a': 3}"
      ]
     },
     "execution_count": 2,
     "metadata": {},
     "output_type": "execute_result"
    }
   ],
   "source": [
    "# All elements inserted must be converted to a string\n",
    "# Python will differ a number entered as an integer from a number entered as an string (example: [10,'10'])\n",
    "# output from example above will be {10: 1, '10': 1}\n",
    "\n",
    "def countElement(mylist):\n",
    "    newlist = {} # Creating a list named newlist that will sum up each element\n",
    "    for character in mylist: # Gets the character in the \"character\" position from list \"newlist\"\n",
    "        if character in newlist: # If character at \"character\"position has already been acknowledge, its sum will be incremented\n",
    "            newlist[character] +=1 # Incrementing sum of character in \"character\" position\n",
    "        else:\n",
    "            newlist[character] =1 # If charecter at \"character\" positon has not been acknowledge, it will be put in the newlist list\n",
    "    return newlist # Returns the output content in newlist\n",
    "\n",
    "\n",
    "input_string = input(\"Type a list of elements separated by space. Press enter when done\")\n",
    "\n",
    "userList = input_string.split()\n",
    "\n",
    "countElement(userList)"
   ]
  },
  {
   "cell_type": "markdown",
   "metadata": {},
   "source": [
    "---"
   ]
  },
  {
   "cell_type": "markdown",
   "metadata": {},
   "source": [
    "### Task 2:"
   ]
  },
  {
   "cell_type": "markdown",
   "metadata": {},
   "source": [
    "Write a Python function called `dicerolls` that simulates\n",
    "rolling dice. Your function should take two parameters: the number of dice k and\n",
    "the number of times to roll the dice n. The function should simulate randomly\n",
    "rolling k dice n times, keeping track of each total face value. It should then return\n",
    "a dictionary with the number of times each possible total face value occurred. So,\n",
    "calling the function as `diceroll(k=2, n=1000)` should return a dictionary like:\n",
    "`{2:19,3:50,4:82,5:112,6:135,7:174,8:133,9:114,10:75,11:70,12:36}`\n",
    "You can use any module from the Python standard library you wish and you should\n",
    "include a description with references of your algorithm in the notebook.\n",
    "\n",
    "Source: [Nuomiphp](https://www.nuomiphp.com/eplan/en/261949.html)\n"
   ]
  },
  {
   "cell_type": "code",
   "execution_count": 3,
   "metadata": {},
   "outputs": [
    {
     "name": "stdout",
     "output_type": "stream",
     "text": [
      "How many dices will you play?2\n",
      "How many times will you roll?100\n",
      "{2: 1, 3: 10, 4: 9, 5: 9, 6: 20, 7: 12, 8: 11, 9: 14, 10: 6, 11: 4, 12: 4}\n"
     ]
    },
    {
     "name": "stderr",
     "output_type": "stream",
     "text": [
      "<ipython-input-3-97cee9f1fb1e>:7: DeprecationWarning: This function is deprecated. Please call randint(1, 6 + 1) instead\n",
      "  return np.random.random_integers(6)\n"
     ]
    }
   ],
   "source": [
    "import numpy as np\n",
    "\n",
    "\n",
    "# Returnig a random number between 1 and 6\n",
    "\n",
    "def random_num():\n",
    "    return np.random.random_integers(6)\n",
    "\n",
    "# Calculate the sum of n dices\n",
    "def diceroll(k, n):\n",
    "    return [sum(random_num() for _ in range(k)) for _ in range(n)]\n",
    "\n",
    "\n",
    "numbDices = int(input(\"How many dices will you play?\"))\n",
    "rolls = int(input(\"How many times will you roll?\"))\n",
    "\n",
    "# Calling function \"diceroll\"\n",
    "results = diceroll(numbDices,rolls)\n",
    "results.sort()\n",
    "\n",
    "# Calling function \"countElements\"\n",
    "print(countElement(results))"
   ]
  },
  {
   "cell_type": "markdown",
   "metadata": {},
   "source": [
    "### Task 3:"
   ]
  },
  {
   "cell_type": "markdown",
   "metadata": {},
   "source": [
    "In this binomial experiment, a coin will be flipped with a 50/50 chance of heads or tails: that means that this is a non-biased coin, hence there will be equal probability of getting heads or of getting tails\n",
    "\n",
    "The Binomial Distribution function will be used to demonstrate this experiment:\n",
    "numpy.random.binomial(n,p,size)\n",
    "\n",
    "- n: number of trials in an experiment.\n",
    "- p: probability of success/Heads.\n",
    "- size: number of experiment\n",
    "\n",
    "This experiment will simulate flipping a coing 100 times, then this will be run 1,000 times and a plot will be used at the end to decipt the resulting list of 1,000 numbers\n",
    "\n",
    "Interesting, it will get a bell-shaped curve:"
   ]
  },
  {
   "cell_type": "code",
   "execution_count": 4,
   "metadata": {},
   "outputs": [
    {
     "name": "stdout",
     "output_type": "stream",
     "text": [
      "Number of Heads in each Experiment:\n",
      " [51 45 49 53 51 50 53 50 59 48 46 45 58 57 37 53 43 45 53 49 50 62 49 47\n",
      " 52 53 51 59 56 45 43 52 52 58 46 59 48 57 52 53 56 56 46 57 55 47 58 53\n",
      " 63 44 55 55 47 48 49 51 47 50 56 50 50 46 39 47 51 44 53 37 56 47 49 50\n",
      " 49 44 44 50 49 47 43 41 50 49 53 57 37 44 48 49 43 50 54 55 50 44 43 52\n",
      " 52 52 42 54 52 51 42 49 53 48 49 50 48 53 41 45 49 51 52 55 53 46 50 50\n",
      " 49 40 42 52 51 41 50 49 45 50 58 48 50 51 50 53 54 46 50 50 47 53 59 47\n",
      " 48 41 46 50 47 50 47 48 50 49 46 40 47 47 52 52 53 51 51 46 57 48 55 55\n",
      " 52 55 48 54 52 46 33 61 50 59 49 56 40 55 38 51 53 44 52 48 56 57 56 48\n",
      " 58 44 50 50 51 49 54 52 50 52 50 55 58 50 47 52 53 53 50 43 50 50 55 56\n",
      " 47 50 55 50 40 39 42 52 59 55 51 49 54 47 45 57 41 48 50 51 50 51 53 47\n",
      " 47 57 42 44 46 49 48 42 43 52 52 52 52 52 44 52 53 59 42 46 45 42 51 56\n",
      " 54 44 50 46 48 49 52 54 52 46 53 48 55 52 47 48 49 52 55 44 48 53 49 47\n",
      " 55 50 56 47 58 49 59 50 50 41 55 38 38 44 51 46 47 45 44 51 39 45 48 59\n",
      " 59 56 41 55 46 46 51 48 56 56 57 52 52 44 49 47 55 52 46 47 52 50 53 38\n",
      " 57 50 48 43 46 46 53 48 52 51 44 51 51 50 41 43 54 46 48 49 48 52 49 51\n",
      " 45 54 43 41 53 42 45 38 46 46 51 52 53 46 44 55 58 48 44 49 50 53 43 51\n",
      " 55 51 51 55 53 61 57 60 49 48 48 60 53 52 55 48 53 46 56 46 53 56 45 50\n",
      " 58 53 44 47 53 50 52 50 53 52 50 56 57 50 47 49 54 51 48 49 43 58 44 47\n",
      " 41 53 50 51 40 51 44 49 58 49 57 48 46 48 58 55 50 52 60 56 50 48 48 55\n",
      " 52 47 49 46 47 56 64 47 48 54 53 53 50 59 54 51 54 50 56 44 46 53 49 51\n",
      " 45 41 46 53 49 50 56 53 45 49 50 48 50 58 53 39 49 56 44 55 49 42 46 54\n",
      " 48 52 46 51 49 56 60 56 51 52 48 51 53 47 45 55 57 52 46 55 50 48 45 45\n",
      " 46 45 46 44 43 47 47 53 47 45 45 55 40 53 46 56 61 48 50 44 49 47 52 51\n",
      " 41 57 45 47 47 45 57 45 49 47 52 48 58 48 53 55 52 57 46 47 46 50 52 45\n",
      " 44 53 46 51 49 52 58 53 49 49 44 58 57 53 45 52 52 45 61 48 52 49 49 50\n",
      " 47 52 45 51 42 51 49 47 51 44 49 57 46 42 55 53 50 43 52 43 53 51 51 42\n",
      " 61 53 54 52 43 38 57 57 56 57 51 45 60 55 43 38 43 43 51 49 43 57 52 43\n",
      " 48 50 53 44 42 50 54 59 60 54 46 45 52 50 62 56 53 56 57 52 51 44 54 59\n",
      " 47 52 51 55 54 53 49 42 53 44 44 47 41 56 45 54 44 56 47 47 40 54 49 59\n",
      " 41 48 55 44 49 45 49 46 40 51 47 47 53 56 51 56 47 59 48 43 50 53 53 41\n",
      " 50 51 44 59 53 44 55 46 53 37 40 43 54 52 43 51 44 45 41 59 41 50 48 54\n",
      " 44 52 54 53 38 49 39 47 45 46 57 54 50 44 59 45 53 55 50 44 51 44 43 58\n",
      " 46 47 50 62 55 52 55 51 52 58 42 52 51 54 47 49 44 52 52 47 55 47 50 51\n",
      " 42 48 53 49 48 56 48 54 55 48 57 49 43 60 50 46 47 46 41 54 45 50 46 54\n",
      " 60 39 49 50 47 47 59 41 51 46 50 44 51 52 53 49 45 43 49 42 50 51 57 53\n",
      " 40 51 54 41 49 51 50 44 55 56 42 50 52 49 47 52 48 49 57 53 44 51 50 46\n",
      " 40 53 48 54 42 44 52 40 48 58 51 54 56 49 47 49 54 52 48 52 56 54 48 55\n",
      " 42 58 49 55 42 54 53 52 41 51 52 48 57 51 54 60 50 39 52 44 49 53 53 54\n",
      " 51 53 47 53 47 50 47 46 55 45 57 59 59 52 47 43 49 52 44 60 45 53 42 48\n",
      " 54 41 57 50 49 47 53 48 44 46 43 46 52 55 52 45 49 43 56 52 43 53 58 42\n",
      " 53 48 50 55 41 45 38 54 45 43 56 46 41 58 56 49 44 62 52 53 47 49 50 60\n",
      " 57 54 49 44 53 50 47 40 53 47 49 60 54 50 48 49]\n"
     ]
    },
    {
     "data": {
      "image/png": "[encoded data removed]",
      "text/plain": [
       "<Figure size 432x288 with 1 Axes>"
      ]
     },
     "metadata": {
      "needs_background": "light"
     },
     "output_type": "display_data"
    }
   ],
   "source": [
    "import numpy as np\n",
    "import random\n",
    "import matplotlib.pyplot as plt\n",
    "\n",
    "def event(n,prob_success,size):    \n",
    "    Outcome = np.random.binomial(n,prob_success,size)    \n",
    "    return Outcome\n",
    "\n",
    "prob_success = 0.5 # must be set to 0.5 for a \"fair\" coin\n",
    "Trials = 100 # flipped a coin 100 times\n",
    "repetitions = 1000 # Repeated experiment 1000 times\n",
    "\n",
    "Outcome = event(Trials, prob_success, repetitions)  # calling function \"event\" here\n",
    "print(\"Number of Heads in each Experiment:\\n\",Outcome)\n",
    "\n",
    "Prob_expt=[np.equal(Outcome,i).mean() for i in range(Trials)]\n",
    "\n",
    "# Plotting results\n",
    "plt.plot(Prob_expt,'b')\n",
    "plt.xlabel('Number of Heads in each Experiment')\n",
    "plt.ylabel('Probability of Occurrence',)\n",
    "\n",
    "plt.show()"
   ]
  },
  {
   "cell_type": "markdown",
   "metadata": {},
   "source": [
    "### Task 4:"
   ]
  },
  {
   "cell_type": "markdown",
   "metadata": {},
   "source": [
    "November 30th, 2020: Simpson’s paradox is a well-known statistical paradox where a trend evident in a number of groups reverses when the groups are combined into one big data set. Use numpy to create four data sets, each with an x array and a corresponding y array, to demonstrate Simpson’s paradox. You might create your x arrays using numpy.linspace and create the y array for each x using notation like y = a * x + b where you choose the a and b for each x , y pair to demonstrate the paradox. You might see the Wikipedia page for Simpson’s paradox for inspiration."
   ]
  },
  {
   "cell_type": "code",
   "execution_count": null,
   "metadata": {},
   "outputs": [],
   "source": []
  }
 ],
 "metadata": {
  "kernelspec": {
   "display_name": "Python 3",
   "language": "python",
   "name": "python3"
  },
  "language_info": {
   "codemirror_mode": {
    "name": "ipython",
    "version": 3
   },
   "file_extension": ".py",
   "mimetype": "text/x-python",
   "name": "python",
   "nbconvert_exporter": "python",
   "pygments_lexer": "ipython3",
   "version": "3.8.3"
  }
 },
 "nbformat": 4,
 "nbformat_minor": 4
}
