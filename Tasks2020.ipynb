{
 "cells": [
  {
   "cell_type": "markdown",
   "metadata": {},
   "source": [
    "### Task 1:"
   ]
  },
  {
   "cell_type": "markdown",
   "metadata": {},
   "source": [
    "Write a Python function called counts that takes a list as\n",
    "input and returns a dictionary of unique items in the list as keys and the number of\n",
    "times each item appears as values. So, the input `['A', 'A', 'B', 'C', 'A']`\n",
    "should have output `{'A': 3, 'B': 1, 'C': 1}` . Your code should not depend\n",
    "on any module from the standard library1 or otherwise. You should research\n",
    "the task first and include a description with references of your algorithm in the\n",
    "notebook."
   ]
  },
  {
   "cell_type": "code",
   "execution_count": 17,
   "metadata": {},
   "outputs": [
    {
     "data": {
      "text/plain": [
       "{'a': 2,\n",
       " 'A': 1,\n",
       " 'b': 2,\n",
       " '%': 2,\n",
       " 3: 2,\n",
       " 6: 1,\n",
       " 'AB': 2,\n",
       " 5: 3,\n",
       " 4: 2,\n",
       " 7: 2,\n",
       " '7A': 1,\n",
       " '5': 1,\n",
       " 101: 3,\n",
       " 102: 1,\n",
       " '101': 1}"
      ]
     },
     "execution_count": 17,
     "metadata": {},
     "output_type": "execute_result"
    }
   ],
   "source": [
    "# All elements inserted must be converted to a string\n",
    "# Python will differ a number entered as an integer from a number entered as an string (example: [10,'10'])\n",
    "# output from example above will be {10: 1, 10: 1}\n",
    "\n",
    "def countElement(mylist):\n",
    "    newlist = {} # Creating a list named newlist that will sum up each element\n",
    "    for character in mylist: # Gets the character in the \"character\" position from list \"newlist\"\n",
    "        if character in newlist: # If character at \"character\"position has already been acknowledge, its sum will be incremented\n",
    "            newlist[character] +=1 # Incrementing sum of character in \"character\" position\n",
    "        else:\n",
    "            newlist[character] =1 # If charecter at \"character\" positon has not been acknowledge, it will be put in the newlist list\n",
    "    return newlist # Returns the output content in newlist\n",
    "\n",
    "elements = ['a','a','A','b','b','%',3,6,'%','AB',5,4,4,5,3,'AB',7,'7A',7,5,'5',101,101,101,102,'101']\n",
    "countElement(elements)"
   ]
  },
  {
   "cell_type": "code",
   "execution_count": null,
   "metadata": {},
   "outputs": [],
   "source": []
  }
 ],
 "metadata": {
  "kernelspec": {
   "display_name": "Python 3",
   "language": "python",
   "name": "python3"
  },
  "language_info": {
   "codemirror_mode": {
    "name": "ipython",
    "version": 3
   },
   "file_extension": ".py",
   "mimetype": "text/x-python",
   "name": "python",
   "nbconvert_exporter": "python",
   "pygments_lexer": "ipython3",
   "version": "3.8.3"
  }
 },
 "nbformat": 4,
 "nbformat_minor": 4
}
