{
 "cells": [
  {
   "cell_type": "markdown",
   "metadata": {},
   "source": [
    "### Task 1:"
   ]
  },
  {
   "cell_type": "markdown",
   "metadata": {},
   "source": [
    "The function below takes a list as input and returns a dictionary of unique items in the list as keys and the number of\n",
    "times each item appears as values. \n",
    "\n",
    "So, if inputted `['A', 'A', 'B', 'C', 'A']` the output will be `{'A': 3, 'B': 1, 'C': 1}`\n",
    "\n",
    "\n",
    "Sources: [PYnative](https://pynative.com/python-accept-list-input-from-user/), [dev.to](https://dev.to/kedark/ways-to-count-occurrences-of-the-list-items-in-python-472g)"
   ]
  },
  {
   "cell_type": "code",
   "execution_count": 2,
   "metadata": {},
   "outputs": [
    {
     "name": "stdout",
     "output_type": "stream",
     "text": [
      "Type a list of elements separated by space. Press enter when done1 1 1 a a A A test test test 56 56\n"
     ]
    },
    {
     "data": {
      "text/plain": [
       "{'1': 3, 'a': 2, 'A': 2, 'test': 3, '56': 2}"
      ]
     },
     "execution_count": 2,
     "metadata": {},
     "output_type": "execute_result"
    }
   ],
   "source": [
    "# All elements inserted must be converted to a string\n",
    "# Python will differ a number entered as an integer from a number entered as an string (example: [10,'10'])\n",
    "# output from example above will be {10: 1, '10': 1}\n",
    "\n",
    "def countElement(mylist):\n",
    "    newlist = {} # Creating a list named newlist that will sum up each element\n",
    "    for character in mylist: # Gets the character in the \"character\" position from list \"newlist\"\n",
    "        if character in newlist: # If character at \"character\"position has already been acknowledge, its sum will be incremented\n",
    "            newlist[character] +=1 # Incrementing sum of character in \"character\" position\n",
    "        else:\n",
    "            newlist[character] =1 # If charecter at \"character\" positon has not been acknowledge, it will be put in the newlist list\n",
    "    return newlist # Returns the output content in newlist\n",
    "\n",
    "\n",
    "input_string = input(\"Type a list of elements separated by space. Press enter when done\")\n",
    "\n",
    "userList = input_string.split()\n",
    "\n",
    "countElement(userList)"
   ]
  },
  {
   "cell_type": "markdown",
   "metadata": {},
   "source": [
    "---"
   ]
  },
  {
   "cell_type": "markdown",
   "metadata": {},
   "source": [
    "### Task 2:"
   ]
  },
  {
   "cell_type": "markdown",
   "metadata": {},
   "source": [
    "The experiment below simulates `dicerolls`\n",
    "This function takes two parameters: the number of dices and the number of times to roll the dices\n",
    "\n",
    "It simulates randomly rolling k dice n times, keeping track of each total face value\n",
    "\n",
    "Then, a dictionary is returned at the end with the number of times each possible total face value occurred. \n",
    "\n",
    "Source: [Nuomiphp](https://www.nuomiphp.com/eplan/en/261949.html)\n"
   ]
  },
  {
   "cell_type": "code",
   "execution_count": 3,
   "metadata": {},
   "outputs": [
    {
     "name": "stdout",
     "output_type": "stream",
     "text": [
      "How many dices will you play?2\n",
      "How many times will you roll?100\n",
      "{2: 2, 3: 7, 4: 13, 5: 12, 6: 17, 7: 18, 8: 8, 9: 10, 10: 8, 11: 3, 12: 2}\n"
     ]
    },
    {
     "name": "stderr",
     "output_type": "stream",
     "text": [
      "<ipython-input-3-97cee9f1fb1e>:7: DeprecationWarning: This function is deprecated. Please call randint(1, 6 + 1) instead\n",
      "  return np.random.random_integers(6)\n"
     ]
    }
   ],
   "source": [
    "import numpy as np\n",
    "\n",
    "\n",
    "# Returnig a random number between 1 and 6\n",
    "\n",
    "def random_num():\n",
    "    return np.random.random_integers(6)\n",
    "\n",
    "# Calculate the sum of n dices\n",
    "def diceroll(k, n):\n",
    "    return [sum(random_num() for _ in range(k)) for _ in range(n)]\n",
    "\n",
    "\n",
    "numbDices = int(input(\"How many dices will you play?\"))\n",
    "rolls = int(input(\"How many times will you roll?\"))\n",
    "\n",
    "# Calling function \"diceroll\"\n",
    "results = diceroll(numbDices,rolls)\n",
    "results.sort()\n",
    "\n",
    "# Calling function \"countElements\"\n",
    "print(countElement(results))"
   ]
  },
  {
   "cell_type": "markdown",
   "metadata": {},
   "source": [
    "### Task 3:"
   ]
  },
  {
   "cell_type": "markdown",
   "metadata": {},
   "source": [
    "In this binomial experiment, a coin will be flipped with a 50/50 chance of heads or tails: that means that this is a non-biased coin, hence there will be equal probability of getting heads or of getting tails\n",
    "\n",
    "The Binomial Distribution function will be used to demonstrate this experiment:\n",
    "numpy.random.binomial(n,p,size)\n",
    "\n",
    "- n: number of trials in an experiment.\n",
    "- p: probability of success/Heads.\n",
    "- size: number of experiment\n",
    "\n",
    "This experiment will simulate flipping a coing 100 times, then this will be run 1,000 times and a plot will be used at the end to decipt the resulting list of 1,000 numbers\n",
    "\n",
    "Interesting, it will get a bell-shaped curve:\n",
    "\n",
    "[source:](https://www.codespeedy.com/biased-coin-flipping-simulation-in-python/)"
   ]
  },
  {
   "cell_type": "code",
   "execution_count": 4,
   "metadata": {},
   "outputs": [
    {
     "name": "stdout",
     "output_type": "stream",
     "text": [
      "Number of Heads in each Experiment:\n",
      " [59 55 44 46 50 46 51 48 47 56 44 50 48 49 51 53 55 57 47 57 47 47 48 55\n",
      " 51 49 48 49 53 43 52 44 50 53 51 45 35 50 53 51 50 45 45 51 53 52 50 45\n",
      " 44 52 51 53 49 50 50 48 52 50 51 47 53 47 48 47 53 47 44 55 46 54 47 51\n",
      " 47 54 47 42 46 49 56 55 51 54 59 43 54 52 60 45 57 52 50 52 47 54 46 52\n",
      " 48 49 55 43 45 51 49 52 54 52 48 48 55 57 47 57 46 48 49 58 45 46 50 47\n",
      " 59 43 46 46 54 49 49 50 46 51 45 49 52 55 47 56 49 51 48 59 52 46 44 39\n",
      " 51 48 49 46 41 49 50 40 45 48 49 46 48 46 51 53 55 47 42 44 50 60 47 52\n",
      " 45 45 51 43 56 55 51 57 50 57 61 54 47 43 43 44 62 55 47 51 55 45 45 48\n",
      " 44 50 47 55 52 49 48 57 50 49 41 44 48 56 58 39 49 53 49 56 48 52 47 46\n",
      " 56 44 50 50 55 48 55 54 44 59 49 46 46 47 51 44 50 54 48 58 51 54 53 57\n",
      " 42 52 55 41 57 58 44 45 45 54 53 53 50 50 50 60 46 51 42 51 53 53 56 55\n",
      " 55 51 49 53 52 55 55 53 50 44 45 49 51 54 45 49 52 51 46 54 50 44 47 51\n",
      " 49 56 53 45 49 57 48 57 51 54 53 46 47 40 49 49 43 54 48 49 49 43 53 53\n",
      " 53 51 53 51 54 42 43 51 55 48 52 55 43 45 48 54 51 45 50 52 61 45 46 53\n",
      " 55 46 47 56 47 50 57 59 56 60 47 46 52 57 51 52 49 46 59 56 48 49 63 52\n",
      " 50 49 43 51 46 48 47 45 58 50 52 55 49 48 47 43 53 56 50 41 51 57 47 49\n",
      " 48 54 57 48 35 56 52 46 56 51 41 51 45 51 58 51 47 51 52 51 51 56 54 49\n",
      " 51 59 45 46 43 47 47 53 43 56 56 55 50 52 64 55 52 46 54 51 52 45 55 52\n",
      " 55 39 53 53 49 50 53 55 45 46 50 53 53 42 49 57 42 51 51 47 50 48 50 52\n",
      " 48 48 58 49 52 54 47 48 43 35 47 55 41 47 59 48 61 55 56 45 43 56 56 46\n",
      " 47 51 49 45 53 48 41 39 42 51 39 58 45 52 53 55 48 51 49 48 53 49 57 43\n",
      " 52 45 45 38 50 42 53 51 52 50 58 46 49 53 54 54 57 44 48 48 50 47 48 49\n",
      " 48 52 39 50 43 53 44 51 49 52 45 43 42 42 50 50 52 43 54 48 62 55 50 45\n",
      " 51 43 48 51 43 63 52 55 49 50 51 59 49 48 40 55 46 48 62 59 48 47 49 56\n",
      " 52 50 54 55 52 46 53 59 49 53 44 49 47 44 50 49 53 54 40 57 51 50 51 49\n",
      " 56 46 56 55 42 45 58 54 56 55 45 53 56 56 53 48 41 50 51 53 50 57 46 45\n",
      " 48 52 46 46 53 47 56 50 44 55 56 37 43 46 53 48 53 51 47 52 59 52 46 52\n",
      " 48 55 52 44 58 56 52 45 55 45 59 44 61 50 51 44 42 45 50 43 52 51 46 45\n",
      " 51 48 42 57 44 58 49 47 49 50 48 43 50 54 53 38 50 46 61 45 58 41 55 45\n",
      " 51 64 50 49 53 46 53 55 48 44 62 52 47 55 50 56 48 44 54 50 47 60 55 53\n",
      " 52 42 46 46 50 49 55 52 46 63 61 52 48 44 52 44 48 57 56 53 51 44 37 53\n",
      " 51 54 51 53 50 57 51 45 55 45 51 54 48 49 52 51 45 48 47 63 51 56 59 50\n",
      " 48 48 64 51 53 40 57 51 51 53 56 44 46 54 38 51 43 42 49 57 55 51 48 49\n",
      " 57 50 54 50 42 49 53 49 50 50 47 61 56 41 55 45 40 58 53 52 47 51 57 53\n",
      " 51 48 46 52 53 38 52 45 41 55 52 44 49 53 52 48 40 46 45 42 48 47 52 46\n",
      " 57 61 59 47 49 48 44 42 58 49 48 57 50 48 51 47 41 47 49 56 51 54 47 52\n",
      " 52 56 56 38 46 48 45 50 44 47 45 49 49 46 47 48 48 45 41 48 50 56 44 44\n",
      " 52 48 49 57 54 45 40 47 54 49 46 47 49 51 48 52 53 54 55 49 52 46 48 46\n",
      " 50 45 52 51 48 47 52 53 52 48 54 44 56 40 55 50 60 55 58 44 54 44 47 57\n",
      " 48 49 50 43 49 38 48 49 47 50 50 51 43 50 58 49 48 48 60 41 46 47 42 50\n",
      " 54 49 43 52 66 52 50 58 47 47 52 49 42 51 47 54 53 56 42 47 56 49 43 60\n",
      " 56 57 43 54 51 61 48 52 53 46 51 51 56 44 52 53]\n"
     ]
    },
    {
     "data": {
      "image/png": "[encoded data removed]",
      "text/plain": [
       "<Figure size 432x288 with 1 Axes>"
      ]
     },
     "metadata": {
      "needs_background": "light"
     },
     "output_type": "display_data"
    }
   ],
   "source": [
    "import numpy as np\n",
    "import random\n",
    "import matplotlib.pyplot as plt\n",
    "\n",
    "def event(n,prob_success,size):    \n",
    "    Outcome = np.random.binomial(n,prob_success,size)    \n",
    "    return Outcome\n",
    "\n",
    "prob_success = 0.5 # must be set to 0.5 for a \"fair\" coin\n",
    "Trials = 100 # flipped a coin 100 times\n",
    "repetitions = 1000 # Repeated experiment 1000 times\n",
    "\n",
    "Outcome = event(Trials, prob_success, repetitions)  # calling function \"event\" here\n",
    "print(\"Number of Heads in each Experiment:\\n\",Outcome)\n",
    "\n",
    "Prob_expt=[np.equal(Outcome,i).mean() for i in range(Trials)]\n",
    "\n",
    "# Plotting results\n",
    "plt.plot(Prob_expt,'b')\n",
    "plt.xlabel('Number of Heads in each Experiment')\n",
    "plt.ylabel('Probability of Occurrence',)\n",
    "\n",
    "plt.show()"
   ]
  },
  {
   "cell_type": "markdown",
   "metadata": {},
   "source": [
    "### Task 4:"
   ]
  },
  {
   "cell_type": "markdown",
   "metadata": {},
   "source": [
    "November 30th, 2020: Simpson’s paradox is a well-known statistical paradox where a trend evident in a number of groups reverses when the groups are combined into one big data set. Use numpy to create four data sets, each with an x array and a corresponding y array, to demonstrate Simpson’s paradox. You might create your x arrays using numpy.linspace and create the y array for each x using notation like y = a * x + b where you choose the a and b for each x , y pair to demonstrate the paradox. You might see the Wikipedia page for Simpson’s paradox for inspiration."
   ]
  },
  {
   "cell_type": "markdown",
   "metadata": {},
   "source": [
    "[Source:](https://en.wikipedia.org/wiki/Simpson%27s_paradox#:~:text=Simpson's%20paradox%2C%20which%20also%20goes,when%20these%20groups%20are%20combined.)"
   ]
  },
  {
   "cell_type": "code",
   "execution_count": null,
   "metadata": {},
   "outputs": [],
   "source": []
  }
 ],
 "metadata": {
  "kernelspec": {
   "display_name": "Python 3",
   "language": "python",
   "name": "python3"
  },
  "language_info": {
   "codemirror_mode": {
    "name": "ipython",
    "version": 3
   },
   "file_extension": ".py",
   "mimetype": "text/x-python",
   "name": "python",
   "nbconvert_exporter": "python",
   "pygments_lexer": "ipython3",
   "version": "3.8.3"
  }
 },
 "nbformat": 4,
 "nbformat_minor": 4
}
